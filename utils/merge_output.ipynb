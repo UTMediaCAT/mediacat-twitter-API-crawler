{
 "cells": [
  {
   "cell_type": "markdown",
   "metadata": {},
   "source": [
    "Run code below to merge multiple Output/output_i.csv to one Output/MERGE_FILE_NAME\n",
    "\n",
    "Edit **START_INDEX** and **END_INDEX** to indicate the files you want to merge\n",
    "\n",
    "Edit **MERGE_FILE_NAME** to indicate the name for the merged output.csv"
   ]
  },
  {
   "cell_type": "code",
   "execution_count": 3,
   "metadata": {},
   "outputs": [],
   "source": [
    "import csv\n",
    "\n",
    "MERGE_FILE_NAME = \"Output/output_gen_3.csv\"\n",
    "START_INDEX = 200\n",
    "END_INDEX = 234\n",
    "\n",
    "with open(MERGE_FILE_NAME, 'a') as new_file:\n",
    "    csv_writter = csv.writer(new_file)\n",
    "    for i in range(START_INDEX, END_INDEX):\n",
    "        with open(\"Output/output_\" + str(i) + \".csv\") as input_file:\n",
    "            csv_reader = csv.reader(input_file)\n",
    "            for row in csv_reader:\n",
    "                csv_writter.writerow(row)"
   ]
  },
  {
   "cell_type": "markdown",
   "metadata": {},
   "source": [
    "Run code below to convert .csv file to .xlsx.\n",
    "\n",
    "It may take a while depends on .csv size"
   ]
  },
  {
   "cell_type": "code",
   "execution_count": null,
   "metadata": {},
   "outputs": [],
   "source": [
    "import pandas as pd\n",
    "\n",
    "df = pd.read_csv('Output/output_gen_2.csv')\n",
    "df.to_excel('Output/output_gen_2.xlsx')\n"
   ]
  }
 ],
 "metadata": {
  "interpreter": {
   "hash": "31f2aee4e71d21fbe5cf8b01ff0e069b9275f58929596ceb00d14d90e3e16cd6"
  },
  "kernelspec": {
   "display_name": "Python 3.6.9 64-bit",
   "language": "python",
   "name": "python3"
  },
  "language_info": {
   "codemirror_mode": {
    "name": "ipython",
    "version": 3
   },
   "file_extension": ".py",
   "mimetype": "text/x-python",
   "name": "python",
   "nbconvert_exporter": "python",
   "pygments_lexer": "ipython3",
   "version": "3.6.9"
  },
  "orig_nbformat": 4
 },
 "nbformat": 4,
 "nbformat_minor": 2
}
