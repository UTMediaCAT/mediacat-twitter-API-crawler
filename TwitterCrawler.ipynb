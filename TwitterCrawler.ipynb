{
 "cells": [
  {
   "cell_type": "markdown",
   "id": "5e86fabd-2688-4deb-8534-06e2c949babc",
   "metadata": {},
   "source": [
    "# Twitter Crawler\n",
    "- using [searchtweets wrapper](https://github.com/twitterdev/search-tweets-python/tree/v2) for Twitter API V2\n",
    "- Academic Research Access\n",
    "    - max tweet per call: 500\n",
    "    - max tweets per month: 10 million\n",
    "- See detailed documentation in twitter_api_demo\n",
    "- I would recomment turning this into a python script after you think its stable enought to run"
   ]
  },
  {
   "cell_type": "markdown",
   "id": "d2f8776c-4c6b-4eaf-9102-70477f8628a4",
   "metadata": {},
   "source": [
    "First install the neccessary python packages from requirements.txt\n",
    "\n",
    "`pip install -r requirements.txt`"
   ]
  },
  {
   "cell_type": "code",
   "execution_count": 1,
   "id": "d07ef0bb-9b64-4c78-825e-5081766a53ee",
   "metadata": {},
   "outputs": [],
   "source": [
    "from searchtweets import ResultStream, gen_request_parameters, load_credentials, collect_results"
   ]
  },
  {
   "cell_type": "code",
   "execution_count": 2,
   "id": "1bfe55ba-175e-42f7-8ede-af7674f1d836",
   "metadata": {},
   "outputs": [],
   "source": [
    "MAX_TWEETS_PER_CALL = 500 # The maximum number of tweets we get per request (500 is the max)\n",
    "MAX_TWEETS_PER_USER = 100000 # The maximum number of tweet that we will request per user ( We can get 10 million total tweets a month)"
   ]
  },
  {
   "cell_type": "markdown",
   "id": "1e72aff4-8238-43bf-9056-bca2b6f1e42c",
   "metadata": {},
   "source": [
    "# Load Credentials"
   ]
  },
  {
   "cell_type": "code",
   "execution_count": 3,
   "id": "29eba5e1-5c8c-4b54-abf6-7a3de725ddbe",
   "metadata": {},
   "outputs": [],
   "source": [
    "full_archive_seach_args = load_credentials(filename=\"./twitter_keys.yaml\",\n",
    "                 yaml_key=\"search_tweets_fullarchive_dev\",\n",
    "                 env_overwrite=False)"
   ]
  },
  {
   "cell_type": "markdown",
   "id": "3b0a50c3-5b8b-490e-b994-08c95f4f23a8",
   "metadata": {},
   "source": [
    "# Todo\n",
    "- get of list of twitter handles to search for\n",
    "- you probably have to impor this from a csv or some other file"
   ]
  },
  {
   "cell_type": "code",
   "execution_count": 4,
   "id": "1eaf9c6b-9c06-4c17-8065-4eeefe51e8ab",
   "metadata": {},
   "outputs": [],
   "source": [
    "twitter_handles = [\"aei\"]"
   ]
  },
  {
   "cell_type": "code",
   "execution_count": 5,
   "id": "1c13879e-da67-4be2-b681-0fbe403b4e9c",
   "metadata": {},
   "outputs": [],
   "source": [
    "tweet_fields = 'id,author_id,created_at,text,public_metrics,referenced_tweets,entities'"
   ]
  },
  {
   "cell_type": "code",
   "execution_count": 6,
   "id": "538da78a-12f9-4780-b8ba-9a93f17a4544",
   "metadata": {
    "tags": []
   },
   "outputs": [],
   "source": [
    "expansions = 'author_id'"
   ]
  },
  {
   "cell_type": "code",
   "execution_count": 7,
   "id": "0212899a-5922-4a1a-9f83-bc61703accff",
   "metadata": {},
   "outputs": [],
   "source": [
    "start_time=\"2020-01-01\" #UTC 2020-01-01 00:00"
   ]
  },
  {
   "cell_type": "code",
   "execution_count": 8,
   "id": "8fef05b8-3264-468f-b401-f19f4ff9dbb3",
   "metadata": {},
   "outputs": [],
   "source": [
    "end_time=\"2021-01-01\" #UTC 2021-01-01 00:00"
   ]
  },
  {
   "cell_type": "code",
   "execution_count": 9,
   "id": "923c7be6-6162-4281-b039-35a71edbb093",
   "metadata": {},
   "outputs": [],
   "source": [
    "tweets = {}"
   ]
  },
  {
   "cell_type": "code",
   "execution_count": 14,
   "id": "560a4103-91ef-4f05-aefb-deeed1082d0d",
   "metadata": {},
   "outputs": [],
   "source": [
    "for twitter_handle in twitter_handles:\n",
    "    # prepare query\n",
    "    query = gen_request_parameters(\"from:\"+twitter_handle,\n",
    "                granularity=None,\n",
    "                start_time=start_time,\n",
    "                end_time=end_time,\n",
    "                tweet_fields=tweet_fields,\n",
    "                expansions=expansions,\n",
    "                results_per_call=MAX_TWEETS_PER_CALL)\n",
    "    # make calls to twitter api\n",
    "    results_pages = collect_results(query, max_tweets=MAX_TWEETS_PER_USER, result_stream_args=full_archive_seach_args)\n",
    "    # see twitter_api_demo for how results_pages looks like\n",
    "    '''\n",
    "        for result in results_pages:\n",
    "            for data in result['data']\n",
    "                list.append(data)\n",
    "        That is what the below does\n",
    "    '''\n",
    "    tweets[twitter_handle] = {\n",
    "        \"data\":[data for result in results_pages for data in result['data']],\n",
    "        \"expansions\":results_pages[0]['includes']\n",
    "    }"
   ]
  },
  {
   "cell_type": "markdown",
   "id": "ba067fb4-d6e9-4545-a7db-2ea414b61a4c",
   "metadata": {},
   "source": [
    "Number of tweets from `aei`"
   ]
  },
  {
   "cell_type": "code",
   "execution_count": 15,
   "id": "b6b3b87b-ee89-453f-8d20-ed07fd1c0a83",
   "metadata": {},
   "outputs": [
    {
     "data": {
      "text/plain": [
       "4268"
      ]
     },
     "execution_count": 15,
     "metadata": {},
     "output_type": "execute_result"
    }
   ],
   "source": [
    "len(tweets[\"aei\"][\"data\"])"
   ]
  },
  {
   "cell_type": "markdown",
   "id": "9cb1b8ed-30f6-44a5-9dba-12d1debf3b2c",
   "metadata": {},
   "source": [
    "The actual tweet data\n",
    "\n",
    "I only showed the first 3 so that the notebook doesn't become too long\n"
   ]
  },
  {
   "cell_type": "code",
   "execution_count": 18,
   "id": "2304bfa7-d56c-4490-969d-40e926f71bb1",
   "metadata": {},
   "outputs": [
    {
     "data": {
      "text/plain": [
       "[{'entities': {'mentions': [{'start': 3,\n",
       "     'end': 16,\n",
       "     'username': 'arthurbrooks',\n",
       "     'id': '28178127'},\n",
       "    {'start': 43, 'end': 55, 'username': 'TheAtlantic', 'id': '35773039'}]},\n",
       "  'public_metrics': {'retweet_count': 11,\n",
       "   'reply_count': 0,\n",
       "   'like_count': 0,\n",
       "   'quote_count': 0},\n",
       "  'created_at': '2020-12-31T16:22:04.000Z',\n",
       "  'referenced_tweets': [{'type': 'retweeted', 'id': '1344637184830275586'}],\n",
       "  'id': '1344680230284353536',\n",
       "  'text': 'RT @arthurbrooks: Read and share the essay @TheAtlantic to help make 2021 into a year of personal growth and opportunity. We all hope the w…',\n",
       "  'author_id': '30864583'},\n",
       " {'public_metrics': {'retweet_count': 3,\n",
       "   'reply_count': 1,\n",
       "   'like_count': 8,\n",
       "   'quote_count': 1},\n",
       "  'created_at': '2020-12-30T18:15:00.000Z',\n",
       "  'id': '1344346264100610050',\n",
       "  'text': 'Joe Biden will assume the presidency when the United States and global economies find themselves mired in a deep economic crisis. https://t.co/X7gD3JCf6t',\n",
       "  'author_id': '30864583',\n",
       "  'entities': {'urls': [{'start': 130,\n",
       "     'end': 153,\n",
       "     'url': 'https://t.co/X7gD3JCf6t',\n",
       "     'expanded_url': 'https://buff.ly/3aSqSxU',\n",
       "     'display_url': 'buff.ly/3aSqSxU'}],\n",
       "   'annotations': [{'start': 0,\n",
       "     'end': 8,\n",
       "     'probability': 0.9965,\n",
       "     'type': 'Person',\n",
       "     'normalized_text': 'Joe Biden'},\n",
       "    {'start': 46,\n",
       "     'end': 58,\n",
       "     'probability': 0.8705,\n",
       "     'type': 'Place',\n",
       "     'normalized_text': 'United States'}]}},\n",
       " {'public_metrics': {'retweet_count': 0,\n",
       "   'reply_count': 0,\n",
       "   'like_count': 1,\n",
       "   'quote_count': 0},\n",
       "  'created_at': '2020-12-30T17:45:01.000Z',\n",
       "  'id': '1344338715435479040',\n",
       "  'text': 'Billions of dollars have been allocated to cities’ public transportation systems in the latest congressional stimulus package, but should they get it?  https://t.co/h6caj7vi74',\n",
       "  'author_id': '30864583',\n",
       "  'entities': {'urls': [{'start': 152,\n",
       "     'end': 175,\n",
       "     'url': 'https://t.co/h6caj7vi74',\n",
       "     'expanded_url': 'https://youtu.be/TwUeoxac868',\n",
       "     'display_url': 'youtu.be/TwUeoxac868'}]}}]"
      ]
     },
     "execution_count": 18,
     "metadata": {},
     "output_type": "execute_result"
    }
   ],
   "source": [
    "tweets[\"aei\"][\"data\"][:3]"
   ]
  },
  {
   "cell_type": "markdown",
   "id": "10ebdc95-9fc6-4d1f-ac3a-7c997c1114e2",
   "metadata": {},
   "source": [
    "Expansions for `aei` I just did `author_id`"
   ]
  },
  {
   "cell_type": "code",
   "execution_count": 20,
   "id": "819e1a54-405f-45bf-b71c-3b6a18d6a8a3",
   "metadata": {},
   "outputs": [
    {
     "data": {
      "text/plain": [
       "{'users': [{'id': '30864583', 'name': 'AEI', 'username': 'AEI'}]}"
      ]
     },
     "execution_count": 20,
     "metadata": {},
     "output_type": "execute_result"
    }
   ],
   "source": [
    "tweets['aei']['expansions']"
   ]
  },
  {
   "cell_type": "markdown",
   "id": "79872730-8f17-4b7b-9378-51e597f7c5c5",
   "metadata": {},
   "source": [
    "# Todo\n",
    "- format data for export\n",
    "    - each row should represent a tweet and each column represents a tweet's attributes\n",
    "    - need to format in a way that it is accepted by csv_processing.ipynb or refactor csv_processing.ipynb to handle this format\n",
    "- maybe instead of a dictionary use a pandas data frame?\n",
    "- export to excel so its easy to view (use pandas for this)"
   ]
  },
  {
   "cell_type": "code",
   "execution_count": null,
   "id": "f14e5f83-cdf9-4382-a6e9-af5f007f3c60",
   "metadata": {},
   "outputs": [],
   "source": []
  }
 ],
 "metadata": {
  "kernelspec": {
   "display_name": "Python 3",
   "language": "python",
   "name": "python3"
  },
  "language_info": {
   "codemirror_mode": {
    "name": "ipython",
    "version": 3
   },
   "file_extension": ".py",
   "mimetype": "text/x-python",
   "name": "python",
   "nbconvert_exporter": "python",
   "pygments_lexer": "ipython3",
   "version": "3.6.9"
  }
 },
 "nbformat": 4,
 "nbformat_minor": 5
}
